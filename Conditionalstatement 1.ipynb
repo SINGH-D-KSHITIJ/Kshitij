{
  "nbformat": 4,
  "nbformat_minor": 0,
  "metadata": {
    "colab": {
      "provenance": [],
      "authorship_tag": "ABX9TyNlVDP/Kb+LBFHgoglilYr8",
      "include_colab_link": true
    },
    "kernelspec": {
      "name": "python3",
      "display_name": "Python 3"
    },
    "language_info": {
      "name": "python"
    }
  },
  "cells": [
    {
      "cell_type": "markdown",
      "metadata": {
        "id": "view-in-github",
        "colab_type": "text"
      },
      "source": [
        "<a href=\"https://colab.research.google.com/github/SINGH-D-KSHITIJ/Kshitij/blob/main/Conditionalstatement%201.ipynb\" target=\"_parent\"><img src=\"https://colab.research.google.com/assets/colab-badge.svg\" alt=\"Open In Colab\"/></a>"
      ]
    },
    {
      "cell_type": "code",
      "execution_count": 9,
      "metadata": {
        "colab": {
          "base_uri": "https://localhost:8080/"
        },
        "id": "DPM0a0ZvK9f-",
        "outputId": "10768cc5-3d55-43d7-863e-3e765387c561"
      },
      "outputs": [
        {
          "output_type": "stream",
          "name": "stdout",
          "text": [
            "You can vote\n"
          ]
        }
      ],
      "source": [
        "age = 18\n",
        "citizen = True\n",
        "\n",
        "if age >= 18:\n",
        "    if citizen:\n",
        "        print(\"You can vote\")\n",
        "    else:\n",
        "        print(\"You must be a citizen to vote\")\n",
        "else:\n",
        "    print(\"You are too young to vote\")"
      ]
    }
  ]
}